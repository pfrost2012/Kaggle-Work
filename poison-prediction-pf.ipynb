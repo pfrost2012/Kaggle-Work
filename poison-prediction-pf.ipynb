{
 "cells": [
  {
   "cell_type": "code",
   "execution_count": 1,
   "id": "77c08c07",
   "metadata": {
    "_cell_guid": "b1076dfc-b9ad-4769-8c92-a6c4dae69d19",
    "_uuid": "8f2839f25d086af736a60e9eeb907d3b93b6e0e5",
    "execution": {
     "iopub.execute_input": "2024-08-21T11:25:56.089273Z",
     "iopub.status.busy": "2024-08-21T11:25:56.088796Z",
     "iopub.status.idle": "2024-08-21T11:25:57.140186Z",
     "shell.execute_reply": "2024-08-21T11:25:57.138954Z"
    },
    "papermill": {
     "duration": 1.068337,
     "end_time": "2024-08-21T11:25:57.142911",
     "exception": false,
     "start_time": "2024-08-21T11:25:56.074574",
     "status": "completed"
    },
    "tags": []
   },
   "outputs": [
    {
     "name": "stdout",
     "output_type": "stream",
     "text": [
      "/kaggle/input/playground-series-s4e8/sample_submission.csv\n",
      "/kaggle/input/playground-series-s4e8/train.csv\n",
      "/kaggle/input/playground-series-s4e8/test.csv\n"
     ]
    }
   ],
   "source": [
    "# This Python 3 environment comes with many helpful analytics libraries installed\n",
    "# It is defined by the kaggle/python Docker image: https://github.com/kaggle/docker-python\n",
    "# For example, here's several helpful packages to load\n",
    "\n",
    "import numpy as np # linear algebra\n",
    "import pandas as pd # data processing, CSV file I/O (e.g. pd.read_csv)\n",
    "\n",
    "# Input data files are available in the read-only \"../input/\" directory\n",
    "# For example, running this (by clicking run or pressing Shift+Enter) will list all files under the input directory\n",
    "\n",
    "import os\n",
    "for dirname, _, filenames in os.walk('/kaggle/input'):\n",
    "    for filename in filenames:\n",
    "        print(os.path.join(dirname, filename))\n",
    "\n",
    "# You can write up to 20GB to the current directory (/kaggle/working/) that gets preserved as output when you create a version using \"Save & Run All\" \n",
    "# You can also write temporary files to /kaggle/temp/, but they won't be saved outside of the current session"
   ]
  },
  {
   "cell_type": "code",
   "execution_count": 2,
   "id": "78300fac",
   "metadata": {
    "execution": {
     "iopub.execute_input": "2024-08-21T11:25:57.167127Z",
     "iopub.status.busy": "2024-08-21T11:25:57.166566Z",
     "iopub.status.idle": "2024-08-21T11:26:17.471280Z",
     "shell.execute_reply": "2024-08-21T11:26:17.469980Z"
    },
    "papermill": {
     "duration": 20.320068,
     "end_time": "2024-08-21T11:26:17.474180",
     "exception": false,
     "start_time": "2024-08-21T11:25:57.154112",
     "status": "completed"
    },
    "tags": []
   },
   "outputs": [],
   "source": [
    "train_data = pd.read_csv('/kaggle/input/playground-series-s4e8/train.csv')\n",
    "test_data = pd.read_csv('/kaggle/input/playground-series-s4e8/test.csv')"
   ]
  },
  {
   "cell_type": "code",
   "execution_count": 3,
   "id": "455dedda",
   "metadata": {
    "execution": {
     "iopub.execute_input": "2024-08-21T11:26:17.500529Z",
     "iopub.status.busy": "2024-08-21T11:26:17.500129Z",
     "iopub.status.idle": "2024-08-21T11:26:20.548466Z",
     "shell.execute_reply": "2024-08-21T11:26:20.547290Z"
    },
    "papermill": {
     "duration": 3.064584,
     "end_time": "2024-08-21T11:26:20.551471",
     "exception": false,
     "start_time": "2024-08-21T11:26:17.486887",
     "status": "completed"
    },
    "tags": []
   },
   "outputs": [
    {
     "data": {
      "text/html": [
       "<div>\n",
       "<style scoped>\n",
       "    .dataframe tbody tr th:only-of-type {\n",
       "        vertical-align: middle;\n",
       "    }\n",
       "\n",
       "    .dataframe tbody tr th {\n",
       "        vertical-align: top;\n",
       "    }\n",
       "\n",
       "    .dataframe thead th {\n",
       "        text-align: right;\n",
       "    }\n",
       "</style>\n",
       "<table border=\"1\" class=\"dataframe\">\n",
       "  <thead>\n",
       "    <tr style=\"text-align: right;\">\n",
       "      <th></th>\n",
       "      <th>id</th>\n",
       "      <th>class</th>\n",
       "      <th>cap-diameter</th>\n",
       "      <th>cap-shape</th>\n",
       "      <th>cap-surface</th>\n",
       "      <th>cap-color</th>\n",
       "      <th>does-bruise-or-bleed</th>\n",
       "      <th>gill-attachment</th>\n",
       "      <th>gill-spacing</th>\n",
       "      <th>gill-color</th>\n",
       "      <th>...</th>\n",
       "      <th>stem-root</th>\n",
       "      <th>stem-surface</th>\n",
       "      <th>stem-color</th>\n",
       "      <th>veil-type</th>\n",
       "      <th>veil-color</th>\n",
       "      <th>has-ring</th>\n",
       "      <th>ring-type</th>\n",
       "      <th>spore-print-color</th>\n",
       "      <th>habitat</th>\n",
       "      <th>season</th>\n",
       "    </tr>\n",
       "  </thead>\n",
       "  <tbody>\n",
       "    <tr>\n",
       "      <th>0</th>\n",
       "      <td>0</td>\n",
       "      <td>e</td>\n",
       "      <td>8.80</td>\n",
       "      <td>f</td>\n",
       "      <td>s</td>\n",
       "      <td>u</td>\n",
       "      <td>f</td>\n",
       "      <td>a</td>\n",
       "      <td>c</td>\n",
       "      <td>w</td>\n",
       "      <td>...</td>\n",
       "      <td>NaN</td>\n",
       "      <td>NaN</td>\n",
       "      <td>w</td>\n",
       "      <td>NaN</td>\n",
       "      <td>NaN</td>\n",
       "      <td>f</td>\n",
       "      <td>f</td>\n",
       "      <td>NaN</td>\n",
       "      <td>d</td>\n",
       "      <td>a</td>\n",
       "    </tr>\n",
       "    <tr>\n",
       "      <th>1</th>\n",
       "      <td>1</td>\n",
       "      <td>p</td>\n",
       "      <td>4.51</td>\n",
       "      <td>x</td>\n",
       "      <td>h</td>\n",
       "      <td>o</td>\n",
       "      <td>f</td>\n",
       "      <td>a</td>\n",
       "      <td>c</td>\n",
       "      <td>n</td>\n",
       "      <td>...</td>\n",
       "      <td>NaN</td>\n",
       "      <td>y</td>\n",
       "      <td>o</td>\n",
       "      <td>NaN</td>\n",
       "      <td>NaN</td>\n",
       "      <td>t</td>\n",
       "      <td>z</td>\n",
       "      <td>NaN</td>\n",
       "      <td>d</td>\n",
       "      <td>w</td>\n",
       "    </tr>\n",
       "    <tr>\n",
       "      <th>2</th>\n",
       "      <td>2</td>\n",
       "      <td>e</td>\n",
       "      <td>6.94</td>\n",
       "      <td>f</td>\n",
       "      <td>s</td>\n",
       "      <td>b</td>\n",
       "      <td>f</td>\n",
       "      <td>x</td>\n",
       "      <td>c</td>\n",
       "      <td>w</td>\n",
       "      <td>...</td>\n",
       "      <td>NaN</td>\n",
       "      <td>s</td>\n",
       "      <td>n</td>\n",
       "      <td>NaN</td>\n",
       "      <td>NaN</td>\n",
       "      <td>f</td>\n",
       "      <td>f</td>\n",
       "      <td>NaN</td>\n",
       "      <td>l</td>\n",
       "      <td>w</td>\n",
       "    </tr>\n",
       "    <tr>\n",
       "      <th>3</th>\n",
       "      <td>3</td>\n",
       "      <td>e</td>\n",
       "      <td>3.88</td>\n",
       "      <td>f</td>\n",
       "      <td>y</td>\n",
       "      <td>g</td>\n",
       "      <td>f</td>\n",
       "      <td>s</td>\n",
       "      <td>NaN</td>\n",
       "      <td>g</td>\n",
       "      <td>...</td>\n",
       "      <td>NaN</td>\n",
       "      <td>NaN</td>\n",
       "      <td>w</td>\n",
       "      <td>NaN</td>\n",
       "      <td>NaN</td>\n",
       "      <td>f</td>\n",
       "      <td>f</td>\n",
       "      <td>NaN</td>\n",
       "      <td>d</td>\n",
       "      <td>u</td>\n",
       "    </tr>\n",
       "    <tr>\n",
       "      <th>4</th>\n",
       "      <td>4</td>\n",
       "      <td>e</td>\n",
       "      <td>5.85</td>\n",
       "      <td>x</td>\n",
       "      <td>l</td>\n",
       "      <td>w</td>\n",
       "      <td>f</td>\n",
       "      <td>d</td>\n",
       "      <td>NaN</td>\n",
       "      <td>w</td>\n",
       "      <td>...</td>\n",
       "      <td>NaN</td>\n",
       "      <td>NaN</td>\n",
       "      <td>w</td>\n",
       "      <td>NaN</td>\n",
       "      <td>NaN</td>\n",
       "      <td>f</td>\n",
       "      <td>f</td>\n",
       "      <td>NaN</td>\n",
       "      <td>g</td>\n",
       "      <td>a</td>\n",
       "    </tr>\n",
       "    <tr>\n",
       "      <th>...</th>\n",
       "      <td>...</td>\n",
       "      <td>...</td>\n",
       "      <td>...</td>\n",
       "      <td>...</td>\n",
       "      <td>...</td>\n",
       "      <td>...</td>\n",
       "      <td>...</td>\n",
       "      <td>...</td>\n",
       "      <td>...</td>\n",
       "      <td>...</td>\n",
       "      <td>...</td>\n",
       "      <td>...</td>\n",
       "      <td>...</td>\n",
       "      <td>...</td>\n",
       "      <td>...</td>\n",
       "      <td>...</td>\n",
       "      <td>...</td>\n",
       "      <td>...</td>\n",
       "      <td>...</td>\n",
       "      <td>...</td>\n",
       "      <td>...</td>\n",
       "    </tr>\n",
       "    <tr>\n",
       "      <th>3116940</th>\n",
       "      <td>3116940</td>\n",
       "      <td>e</td>\n",
       "      <td>9.29</td>\n",
       "      <td>f</td>\n",
       "      <td>NaN</td>\n",
       "      <td>n</td>\n",
       "      <td>t</td>\n",
       "      <td>NaN</td>\n",
       "      <td>NaN</td>\n",
       "      <td>w</td>\n",
       "      <td>...</td>\n",
       "      <td>b</td>\n",
       "      <td>NaN</td>\n",
       "      <td>w</td>\n",
       "      <td>u</td>\n",
       "      <td>w</td>\n",
       "      <td>t</td>\n",
       "      <td>g</td>\n",
       "      <td>NaN</td>\n",
       "      <td>d</td>\n",
       "      <td>u</td>\n",
       "    </tr>\n",
       "    <tr>\n",
       "      <th>3116941</th>\n",
       "      <td>3116941</td>\n",
       "      <td>e</td>\n",
       "      <td>10.88</td>\n",
       "      <td>s</td>\n",
       "      <td>NaN</td>\n",
       "      <td>w</td>\n",
       "      <td>t</td>\n",
       "      <td>d</td>\n",
       "      <td>c</td>\n",
       "      <td>p</td>\n",
       "      <td>...</td>\n",
       "      <td>NaN</td>\n",
       "      <td>NaN</td>\n",
       "      <td>w</td>\n",
       "      <td>NaN</td>\n",
       "      <td>NaN</td>\n",
       "      <td>f</td>\n",
       "      <td>f</td>\n",
       "      <td>NaN</td>\n",
       "      <td>d</td>\n",
       "      <td>u</td>\n",
       "    </tr>\n",
       "    <tr>\n",
       "      <th>3116942</th>\n",
       "      <td>3116942</td>\n",
       "      <td>p</td>\n",
       "      <td>7.82</td>\n",
       "      <td>x</td>\n",
       "      <td>e</td>\n",
       "      <td>e</td>\n",
       "      <td>f</td>\n",
       "      <td>a</td>\n",
       "      <td>NaN</td>\n",
       "      <td>w</td>\n",
       "      <td>...</td>\n",
       "      <td>NaN</td>\n",
       "      <td>NaN</td>\n",
       "      <td>y</td>\n",
       "      <td>NaN</td>\n",
       "      <td>w</td>\n",
       "      <td>t</td>\n",
       "      <td>z</td>\n",
       "      <td>NaN</td>\n",
       "      <td>d</td>\n",
       "      <td>a</td>\n",
       "    </tr>\n",
       "    <tr>\n",
       "      <th>3116943</th>\n",
       "      <td>3116943</td>\n",
       "      <td>e</td>\n",
       "      <td>9.45</td>\n",
       "      <td>p</td>\n",
       "      <td>i</td>\n",
       "      <td>n</td>\n",
       "      <td>t</td>\n",
       "      <td>e</td>\n",
       "      <td>NaN</td>\n",
       "      <td>p</td>\n",
       "      <td>...</td>\n",
       "      <td>NaN</td>\n",
       "      <td>y</td>\n",
       "      <td>w</td>\n",
       "      <td>NaN</td>\n",
       "      <td>NaN</td>\n",
       "      <td>t</td>\n",
       "      <td>p</td>\n",
       "      <td>NaN</td>\n",
       "      <td>d</td>\n",
       "      <td>u</td>\n",
       "    </tr>\n",
       "    <tr>\n",
       "      <th>3116944</th>\n",
       "      <td>3116944</td>\n",
       "      <td>p</td>\n",
       "      <td>3.20</td>\n",
       "      <td>x</td>\n",
       "      <td>s</td>\n",
       "      <td>g</td>\n",
       "      <td>f</td>\n",
       "      <td>d</td>\n",
       "      <td>c</td>\n",
       "      <td>w</td>\n",
       "      <td>...</td>\n",
       "      <td>NaN</td>\n",
       "      <td>NaN</td>\n",
       "      <td>w</td>\n",
       "      <td>NaN</td>\n",
       "      <td>NaN</td>\n",
       "      <td>f</td>\n",
       "      <td>f</td>\n",
       "      <td>NaN</td>\n",
       "      <td>g</td>\n",
       "      <td>u</td>\n",
       "    </tr>\n",
       "  </tbody>\n",
       "</table>\n",
       "<p>3116945 rows × 22 columns</p>\n",
       "</div>"
      ],
      "text/plain": [
       "              id class  cap-diameter cap-shape cap-surface cap-color  \\\n",
       "0              0     e          8.80         f           s         u   \n",
       "1              1     p          4.51         x           h         o   \n",
       "2              2     e          6.94         f           s         b   \n",
       "3              3     e          3.88         f           y         g   \n",
       "4              4     e          5.85         x           l         w   \n",
       "...          ...   ...           ...       ...         ...       ...   \n",
       "3116940  3116940     e          9.29         f         NaN         n   \n",
       "3116941  3116941     e         10.88         s         NaN         w   \n",
       "3116942  3116942     p          7.82         x           e         e   \n",
       "3116943  3116943     e          9.45         p           i         n   \n",
       "3116944  3116944     p          3.20         x           s         g   \n",
       "\n",
       "        does-bruise-or-bleed gill-attachment gill-spacing gill-color  ...  \\\n",
       "0                          f               a            c          w  ...   \n",
       "1                          f               a            c          n  ...   \n",
       "2                          f               x            c          w  ...   \n",
       "3                          f               s          NaN          g  ...   \n",
       "4                          f               d          NaN          w  ...   \n",
       "...                      ...             ...          ...        ...  ...   \n",
       "3116940                    t             NaN          NaN          w  ...   \n",
       "3116941                    t               d            c          p  ...   \n",
       "3116942                    f               a          NaN          w  ...   \n",
       "3116943                    t               e          NaN          p  ...   \n",
       "3116944                    f               d            c          w  ...   \n",
       "\n",
       "         stem-root  stem-surface stem-color veil-type veil-color has-ring  \\\n",
       "0              NaN           NaN          w       NaN        NaN        f   \n",
       "1              NaN             y          o       NaN        NaN        t   \n",
       "2              NaN             s          n       NaN        NaN        f   \n",
       "3              NaN           NaN          w       NaN        NaN        f   \n",
       "4              NaN           NaN          w       NaN        NaN        f   \n",
       "...            ...           ...        ...       ...        ...      ...   \n",
       "3116940          b           NaN          w         u          w        t   \n",
       "3116941        NaN           NaN          w       NaN        NaN        f   \n",
       "3116942        NaN           NaN          y       NaN          w        t   \n",
       "3116943        NaN             y          w       NaN        NaN        t   \n",
       "3116944        NaN           NaN          w       NaN        NaN        f   \n",
       "\n",
       "        ring-type spore-print-color habitat season  \n",
       "0               f               NaN       d      a  \n",
       "1               z               NaN       d      w  \n",
       "2               f               NaN       l      w  \n",
       "3               f               NaN       d      u  \n",
       "4               f               NaN       g      a  \n",
       "...           ...               ...     ...    ...  \n",
       "3116940         g               NaN       d      u  \n",
       "3116941         f               NaN       d      u  \n",
       "3116942         z               NaN       d      a  \n",
       "3116943         p               NaN       d      u  \n",
       "3116944         f               NaN       g      u  \n",
       "\n",
       "[3116945 rows x 22 columns]"
      ]
     },
     "execution_count": 3,
     "metadata": {},
     "output_type": "execute_result"
    }
   ],
   "source": [
    "train_data"
   ]
  },
  {
   "cell_type": "code",
   "execution_count": 4,
   "id": "566700e0",
   "metadata": {
    "execution": {
     "iopub.execute_input": "2024-08-21T11:26:20.577241Z",
     "iopub.status.busy": "2024-08-21T11:26:20.576362Z",
     "iopub.status.idle": "2024-08-21T11:26:22.534271Z",
     "shell.execute_reply": "2024-08-21T11:26:22.532948Z"
    },
    "papermill": {
     "duration": 1.973701,
     "end_time": "2024-08-21T11:26:22.536997",
     "exception": false,
     "start_time": "2024-08-21T11:26:20.563296",
     "status": "completed"
    },
    "tags": []
   },
   "outputs": [
    {
     "data": {
      "text/html": [
       "<div>\n",
       "<style scoped>\n",
       "    .dataframe tbody tr th:only-of-type {\n",
       "        vertical-align: middle;\n",
       "    }\n",
       "\n",
       "    .dataframe tbody tr th {\n",
       "        vertical-align: top;\n",
       "    }\n",
       "\n",
       "    .dataframe thead th {\n",
       "        text-align: right;\n",
       "    }\n",
       "</style>\n",
       "<table border=\"1\" class=\"dataframe\">\n",
       "  <thead>\n",
       "    <tr style=\"text-align: right;\">\n",
       "      <th></th>\n",
       "      <th>id</th>\n",
       "      <th>cap-diameter</th>\n",
       "      <th>cap-shape</th>\n",
       "      <th>cap-surface</th>\n",
       "      <th>cap-color</th>\n",
       "      <th>does-bruise-or-bleed</th>\n",
       "      <th>gill-attachment</th>\n",
       "      <th>gill-spacing</th>\n",
       "      <th>gill-color</th>\n",
       "      <th>stem-height</th>\n",
       "      <th>...</th>\n",
       "      <th>stem-root</th>\n",
       "      <th>stem-surface</th>\n",
       "      <th>stem-color</th>\n",
       "      <th>veil-type</th>\n",
       "      <th>veil-color</th>\n",
       "      <th>has-ring</th>\n",
       "      <th>ring-type</th>\n",
       "      <th>spore-print-color</th>\n",
       "      <th>habitat</th>\n",
       "      <th>season</th>\n",
       "    </tr>\n",
       "  </thead>\n",
       "  <tbody>\n",
       "    <tr>\n",
       "      <th>0</th>\n",
       "      <td>3116945</td>\n",
       "      <td>8.64</td>\n",
       "      <td>x</td>\n",
       "      <td>NaN</td>\n",
       "      <td>n</td>\n",
       "      <td>t</td>\n",
       "      <td>NaN</td>\n",
       "      <td>NaN</td>\n",
       "      <td>w</td>\n",
       "      <td>11.13</td>\n",
       "      <td>...</td>\n",
       "      <td>b</td>\n",
       "      <td>NaN</td>\n",
       "      <td>w</td>\n",
       "      <td>u</td>\n",
       "      <td>w</td>\n",
       "      <td>t</td>\n",
       "      <td>g</td>\n",
       "      <td>NaN</td>\n",
       "      <td>d</td>\n",
       "      <td>a</td>\n",
       "    </tr>\n",
       "    <tr>\n",
       "      <th>1</th>\n",
       "      <td>3116946</td>\n",
       "      <td>6.90</td>\n",
       "      <td>o</td>\n",
       "      <td>t</td>\n",
       "      <td>o</td>\n",
       "      <td>f</td>\n",
       "      <td>NaN</td>\n",
       "      <td>c</td>\n",
       "      <td>y</td>\n",
       "      <td>1.27</td>\n",
       "      <td>...</td>\n",
       "      <td>NaN</td>\n",
       "      <td>NaN</td>\n",
       "      <td>n</td>\n",
       "      <td>NaN</td>\n",
       "      <td>NaN</td>\n",
       "      <td>f</td>\n",
       "      <td>f</td>\n",
       "      <td>NaN</td>\n",
       "      <td>d</td>\n",
       "      <td>a</td>\n",
       "    </tr>\n",
       "    <tr>\n",
       "      <th>2</th>\n",
       "      <td>3116947</td>\n",
       "      <td>2.00</td>\n",
       "      <td>b</td>\n",
       "      <td>g</td>\n",
       "      <td>n</td>\n",
       "      <td>f</td>\n",
       "      <td>NaN</td>\n",
       "      <td>c</td>\n",
       "      <td>n</td>\n",
       "      <td>6.18</td>\n",
       "      <td>...</td>\n",
       "      <td>NaN</td>\n",
       "      <td>NaN</td>\n",
       "      <td>n</td>\n",
       "      <td>NaN</td>\n",
       "      <td>NaN</td>\n",
       "      <td>f</td>\n",
       "      <td>f</td>\n",
       "      <td>NaN</td>\n",
       "      <td>d</td>\n",
       "      <td>s</td>\n",
       "    </tr>\n",
       "    <tr>\n",
       "      <th>3</th>\n",
       "      <td>3116948</td>\n",
       "      <td>3.47</td>\n",
       "      <td>x</td>\n",
       "      <td>t</td>\n",
       "      <td>n</td>\n",
       "      <td>f</td>\n",
       "      <td>s</td>\n",
       "      <td>c</td>\n",
       "      <td>n</td>\n",
       "      <td>4.98</td>\n",
       "      <td>...</td>\n",
       "      <td>NaN</td>\n",
       "      <td>NaN</td>\n",
       "      <td>w</td>\n",
       "      <td>NaN</td>\n",
       "      <td>n</td>\n",
       "      <td>t</td>\n",
       "      <td>z</td>\n",
       "      <td>NaN</td>\n",
       "      <td>d</td>\n",
       "      <td>u</td>\n",
       "    </tr>\n",
       "    <tr>\n",
       "      <th>4</th>\n",
       "      <td>3116949</td>\n",
       "      <td>6.17</td>\n",
       "      <td>x</td>\n",
       "      <td>h</td>\n",
       "      <td>y</td>\n",
       "      <td>f</td>\n",
       "      <td>p</td>\n",
       "      <td>NaN</td>\n",
       "      <td>y</td>\n",
       "      <td>6.73</td>\n",
       "      <td>...</td>\n",
       "      <td>NaN</td>\n",
       "      <td>NaN</td>\n",
       "      <td>y</td>\n",
       "      <td>NaN</td>\n",
       "      <td>y</td>\n",
       "      <td>t</td>\n",
       "      <td>NaN</td>\n",
       "      <td>NaN</td>\n",
       "      <td>d</td>\n",
       "      <td>u</td>\n",
       "    </tr>\n",
       "    <tr>\n",
       "      <th>...</th>\n",
       "      <td>...</td>\n",
       "      <td>...</td>\n",
       "      <td>...</td>\n",
       "      <td>...</td>\n",
       "      <td>...</td>\n",
       "      <td>...</td>\n",
       "      <td>...</td>\n",
       "      <td>...</td>\n",
       "      <td>...</td>\n",
       "      <td>...</td>\n",
       "      <td>...</td>\n",
       "      <td>...</td>\n",
       "      <td>...</td>\n",
       "      <td>...</td>\n",
       "      <td>...</td>\n",
       "      <td>...</td>\n",
       "      <td>...</td>\n",
       "      <td>...</td>\n",
       "      <td>...</td>\n",
       "      <td>...</td>\n",
       "      <td>...</td>\n",
       "    </tr>\n",
       "    <tr>\n",
       "      <th>2077959</th>\n",
       "      <td>5194904</td>\n",
       "      <td>0.88</td>\n",
       "      <td>x</td>\n",
       "      <td>g</td>\n",
       "      <td>w</td>\n",
       "      <td>f</td>\n",
       "      <td>a</td>\n",
       "      <td>d</td>\n",
       "      <td>w</td>\n",
       "      <td>2.67</td>\n",
       "      <td>...</td>\n",
       "      <td>NaN</td>\n",
       "      <td>NaN</td>\n",
       "      <td>e</td>\n",
       "      <td>NaN</td>\n",
       "      <td>NaN</td>\n",
       "      <td>f</td>\n",
       "      <td>f</td>\n",
       "      <td>NaN</td>\n",
       "      <td>d</td>\n",
       "      <td>u</td>\n",
       "    </tr>\n",
       "    <tr>\n",
       "      <th>2077960</th>\n",
       "      <td>5194905</td>\n",
       "      <td>3.12</td>\n",
       "      <td>x</td>\n",
       "      <td>s</td>\n",
       "      <td>w</td>\n",
       "      <td>f</td>\n",
       "      <td>d</td>\n",
       "      <td>c</td>\n",
       "      <td>w</td>\n",
       "      <td>2.69</td>\n",
       "      <td>...</td>\n",
       "      <td>NaN</td>\n",
       "      <td>NaN</td>\n",
       "      <td>w</td>\n",
       "      <td>NaN</td>\n",
       "      <td>NaN</td>\n",
       "      <td>f</td>\n",
       "      <td>f</td>\n",
       "      <td>NaN</td>\n",
       "      <td>g</td>\n",
       "      <td>a</td>\n",
       "    </tr>\n",
       "    <tr>\n",
       "      <th>2077961</th>\n",
       "      <td>5194906</td>\n",
       "      <td>5.73</td>\n",
       "      <td>x</td>\n",
       "      <td>e</td>\n",
       "      <td>e</td>\n",
       "      <td>f</td>\n",
       "      <td>a</td>\n",
       "      <td>NaN</td>\n",
       "      <td>w</td>\n",
       "      <td>6.16</td>\n",
       "      <td>...</td>\n",
       "      <td>NaN</td>\n",
       "      <td>NaN</td>\n",
       "      <td>y</td>\n",
       "      <td>NaN</td>\n",
       "      <td>w</td>\n",
       "      <td>t</td>\n",
       "      <td>z</td>\n",
       "      <td>NaN</td>\n",
       "      <td>d</td>\n",
       "      <td>a</td>\n",
       "    </tr>\n",
       "    <tr>\n",
       "      <th>2077962</th>\n",
       "      <td>5194907</td>\n",
       "      <td>5.03</td>\n",
       "      <td>b</td>\n",
       "      <td>g</td>\n",
       "      <td>n</td>\n",
       "      <td>f</td>\n",
       "      <td>a</td>\n",
       "      <td>d</td>\n",
       "      <td>g</td>\n",
       "      <td>6.00</td>\n",
       "      <td>...</td>\n",
       "      <td>NaN</td>\n",
       "      <td>s</td>\n",
       "      <td>g</td>\n",
       "      <td>NaN</td>\n",
       "      <td>NaN</td>\n",
       "      <td>f</td>\n",
       "      <td>f</td>\n",
       "      <td>NaN</td>\n",
       "      <td>d</td>\n",
       "      <td>a</td>\n",
       "    </tr>\n",
       "    <tr>\n",
       "      <th>2077963</th>\n",
       "      <td>5194908</td>\n",
       "      <td>15.51</td>\n",
       "      <td>f</td>\n",
       "      <td>NaN</td>\n",
       "      <td>w</td>\n",
       "      <td>f</td>\n",
       "      <td>d</td>\n",
       "      <td>c</td>\n",
       "      <td>y</td>\n",
       "      <td>2.69</td>\n",
       "      <td>...</td>\n",
       "      <td>NaN</td>\n",
       "      <td>NaN</td>\n",
       "      <td>w</td>\n",
       "      <td>NaN</td>\n",
       "      <td>NaN</td>\n",
       "      <td>f</td>\n",
       "      <td>f</td>\n",
       "      <td>NaN</td>\n",
       "      <td>d</td>\n",
       "      <td>w</td>\n",
       "    </tr>\n",
       "  </tbody>\n",
       "</table>\n",
       "<p>2077964 rows × 21 columns</p>\n",
       "</div>"
      ],
      "text/plain": [
       "              id  cap-diameter cap-shape cap-surface cap-color  \\\n",
       "0        3116945          8.64         x         NaN         n   \n",
       "1        3116946          6.90         o           t         o   \n",
       "2        3116947          2.00         b           g         n   \n",
       "3        3116948          3.47         x           t         n   \n",
       "4        3116949          6.17         x           h         y   \n",
       "...          ...           ...       ...         ...       ...   \n",
       "2077959  5194904          0.88         x           g         w   \n",
       "2077960  5194905          3.12         x           s         w   \n",
       "2077961  5194906          5.73         x           e         e   \n",
       "2077962  5194907          5.03         b           g         n   \n",
       "2077963  5194908         15.51         f         NaN         w   \n",
       "\n",
       "        does-bruise-or-bleed gill-attachment gill-spacing gill-color  \\\n",
       "0                          t             NaN          NaN          w   \n",
       "1                          f             NaN            c          y   \n",
       "2                          f             NaN            c          n   \n",
       "3                          f               s            c          n   \n",
       "4                          f               p          NaN          y   \n",
       "...                      ...             ...          ...        ...   \n",
       "2077959                    f               a            d          w   \n",
       "2077960                    f               d            c          w   \n",
       "2077961                    f               a          NaN          w   \n",
       "2077962                    f               a            d          g   \n",
       "2077963                    f               d            c          y   \n",
       "\n",
       "         stem-height  ...  stem-root stem-surface stem-color veil-type  \\\n",
       "0              11.13  ...          b          NaN          w         u   \n",
       "1               1.27  ...        NaN          NaN          n       NaN   \n",
       "2               6.18  ...        NaN          NaN          n       NaN   \n",
       "3               4.98  ...        NaN          NaN          w       NaN   \n",
       "4               6.73  ...        NaN          NaN          y       NaN   \n",
       "...              ...  ...        ...          ...        ...       ...   \n",
       "2077959         2.67  ...        NaN          NaN          e       NaN   \n",
       "2077960         2.69  ...        NaN          NaN          w       NaN   \n",
       "2077961         6.16  ...        NaN          NaN          y       NaN   \n",
       "2077962         6.00  ...        NaN            s          g       NaN   \n",
       "2077963         2.69  ...        NaN          NaN          w       NaN   \n",
       "\n",
       "        veil-color has-ring ring-type spore-print-color habitat season  \n",
       "0                w        t         g               NaN       d      a  \n",
       "1              NaN        f         f               NaN       d      a  \n",
       "2              NaN        f         f               NaN       d      s  \n",
       "3                n        t         z               NaN       d      u  \n",
       "4                y        t       NaN               NaN       d      u  \n",
       "...            ...      ...       ...               ...     ...    ...  \n",
       "2077959        NaN        f         f               NaN       d      u  \n",
       "2077960        NaN        f         f               NaN       g      a  \n",
       "2077961          w        t         z               NaN       d      a  \n",
       "2077962        NaN        f         f               NaN       d      a  \n",
       "2077963        NaN        f         f               NaN       d      w  \n",
       "\n",
       "[2077964 rows x 21 columns]"
      ]
     },
     "execution_count": 4,
     "metadata": {},
     "output_type": "execute_result"
    }
   ],
   "source": [
    "test_data"
   ]
  },
  {
   "cell_type": "code",
   "execution_count": 5,
   "id": "af9e9cc1",
   "metadata": {
    "execution": {
     "iopub.execute_input": "2024-08-21T11:26:22.564679Z",
     "iopub.status.busy": "2024-08-21T11:26:22.564233Z",
     "iopub.status.idle": "2024-08-21T11:26:25.713537Z",
     "shell.execute_reply": "2024-08-21T11:26:25.712229Z"
    },
    "papermill": {
     "duration": 3.166642,
     "end_time": "2024-08-21T11:26:25.716130",
     "exception": false,
     "start_time": "2024-08-21T11:26:22.549488",
     "status": "completed"
    },
    "tags": []
   },
   "outputs": [
    {
     "data": {
      "text/plain": [
       "id                      3116945\n",
       "class                         2\n",
       "cap-diameter               3913\n",
       "cap-shape                    74\n",
       "cap-surface                  83\n",
       "cap-color                    78\n",
       "does-bruise-or-bleed         26\n",
       "gill-attachment              78\n",
       "gill-spacing                 48\n",
       "gill-color                   63\n",
       "stem-height                2749\n",
       "stem-width                 5836\n",
       "stem-root                    38\n",
       "stem-surface                 60\n",
       "stem-color                   59\n",
       "veil-type                    22\n",
       "veil-color                   24\n",
       "has-ring                     23\n",
       "ring-type                    40\n",
       "spore-print-color            32\n",
       "habitat                      52\n",
       "season                        4\n",
       "dtype: int64"
      ]
     },
     "execution_count": 5,
     "metadata": {},
     "output_type": "execute_result"
    }
   ],
   "source": [
    "train_data.nunique()"
   ]
  },
  {
   "cell_type": "code",
   "execution_count": 6,
   "id": "d63cb02f",
   "metadata": {
    "execution": {
     "iopub.execute_input": "2024-08-21T11:26:25.743563Z",
     "iopub.status.busy": "2024-08-21T11:26:25.743086Z",
     "iopub.status.idle": "2024-08-21T11:26:30.714466Z",
     "shell.execute_reply": "2024-08-21T11:26:30.713067Z"
    },
    "papermill": {
     "duration": 4.988573,
     "end_time": "2024-08-21T11:26:30.717273",
     "exception": false,
     "start_time": "2024-08-21T11:26:25.728700",
     "status": "completed"
    },
    "tags": []
   },
   "outputs": [
    {
     "data": {
      "text/plain": [
       "id                            0\n",
       "class                         0\n",
       "cap-diameter                  4\n",
       "cap-shape                    40\n",
       "cap-surface              671023\n",
       "cap-color                    12\n",
       "does-bruise-or-bleed          8\n",
       "gill-attachment          523936\n",
       "gill-spacing            1258435\n",
       "gill-color                   57\n",
       "stem-height                   0\n",
       "stem-width                    0\n",
       "stem-root               2757023\n",
       "stem-surface            1980861\n",
       "stem-color                   38\n",
       "veil-type               2957493\n",
       "veil-color              2740947\n",
       "has-ring                     24\n",
       "ring-type                128880\n",
       "spore-print-color       2849682\n",
       "habitat                      45\n",
       "season                        0\n",
       "dtype: int64"
      ]
     },
     "execution_count": 6,
     "metadata": {},
     "output_type": "execute_result"
    }
   ],
   "source": [
    "train_data.isnull().sum()"
   ]
  },
  {
   "cell_type": "code",
   "execution_count": 7,
   "id": "e8fbeaa1",
   "metadata": {
    "execution": {
     "iopub.execute_input": "2024-08-21T11:26:30.745653Z",
     "iopub.status.busy": "2024-08-21T11:26:30.744491Z",
     "iopub.status.idle": "2024-08-21T11:26:31.231220Z",
     "shell.execute_reply": "2024-08-21T11:26:31.229358Z"
    },
    "papermill": {
     "duration": 0.504703,
     "end_time": "2024-08-21T11:26:31.234860",
     "exception": false,
     "start_time": "2024-08-21T11:26:30.730157",
     "status": "completed"
    },
    "tags": []
   },
   "outputs": [],
   "source": [
    "train_data = train_data.drop(['cap-surface','gill-attachment','gill-spacing','stem-root','stem-surface','veil-type','veil-color','ring-type','spore-print-color'],axis=1)\n",
    "test_data = test_data.drop(['cap-surface','gill-attachment','gill-spacing','stem-root','stem-surface','veil-type','veil-color','ring-type','spore-print-color'],axis=1)"
   ]
  },
  {
   "cell_type": "code",
   "execution_count": 8,
   "id": "2808e349",
   "metadata": {
    "execution": {
     "iopub.execute_input": "2024-08-21T11:26:31.264031Z",
     "iopub.status.busy": "2024-08-21T11:26:31.263622Z",
     "iopub.status.idle": "2024-08-21T11:26:34.288594Z",
     "shell.execute_reply": "2024-08-21T11:26:34.287256Z"
    },
    "papermill": {
     "duration": 3.042437,
     "end_time": "2024-08-21T11:26:34.291383",
     "exception": false,
     "start_time": "2024-08-21T11:26:31.248946",
     "status": "completed"
    },
    "tags": []
   },
   "outputs": [
    {
     "data": {
      "text/plain": [
       "id                       0\n",
       "class                    0\n",
       "cap-diameter             4\n",
       "cap-shape               40\n",
       "cap-color               12\n",
       "does-bruise-or-bleed     8\n",
       "gill-color              57\n",
       "stem-height              0\n",
       "stem-width               0\n",
       "stem-color              38\n",
       "has-ring                24\n",
       "habitat                 45\n",
       "season                   0\n",
       "dtype: int64"
      ]
     },
     "execution_count": 8,
     "metadata": {},
     "output_type": "execute_result"
    }
   ],
   "source": [
    "train_data.isnull().sum()"
   ]
  },
  {
   "cell_type": "code",
   "execution_count": 9,
   "id": "67c8ffb1",
   "metadata": {
    "execution": {
     "iopub.execute_input": "2024-08-21T11:26:34.321822Z",
     "iopub.status.busy": "2024-08-21T11:26:34.321394Z",
     "iopub.status.idle": "2024-08-21T11:26:36.139013Z",
     "shell.execute_reply": "2024-08-21T11:26:36.137600Z"
    },
    "papermill": {
     "duration": 1.836514,
     "end_time": "2024-08-21T11:26:36.142141",
     "exception": false,
     "start_time": "2024-08-21T11:26:34.305627",
     "status": "completed"
    },
    "tags": []
   },
   "outputs": [
    {
     "data": {
      "text/plain": [
       "id                       0\n",
       "cap-diameter             7\n",
       "cap-shape               31\n",
       "cap-color               13\n",
       "does-bruise-or-bleed    10\n",
       "gill-color              49\n",
       "stem-height              1\n",
       "stem-width               0\n",
       "stem-color              21\n",
       "has-ring                19\n",
       "habitat                 25\n",
       "season                   0\n",
       "dtype: int64"
      ]
     },
     "execution_count": 9,
     "metadata": {},
     "output_type": "execute_result"
    }
   ],
   "source": [
    "test_data.isnull().sum()"
   ]
  },
  {
   "cell_type": "code",
   "execution_count": 10,
   "id": "528c895d",
   "metadata": {
    "execution": {
     "iopub.execute_input": "2024-08-21T11:26:36.174292Z",
     "iopub.status.busy": "2024-08-21T11:26:36.173748Z",
     "iopub.status.idle": "2024-08-21T11:26:36.183787Z",
     "shell.execute_reply": "2024-08-21T11:26:36.182383Z"
    },
    "papermill": {
     "duration": 0.02945,
     "end_time": "2024-08-21T11:26:36.186991",
     "exception": false,
     "start_time": "2024-08-21T11:26:36.157541",
     "status": "completed"
    },
    "tags": []
   },
   "outputs": [
    {
     "data": {
      "text/plain": [
       "id                        int64\n",
       "class                    object\n",
       "cap-diameter            float64\n",
       "cap-shape                object\n",
       "cap-color                object\n",
       "does-bruise-or-bleed     object\n",
       "gill-color               object\n",
       "stem-height             float64\n",
       "stem-width              float64\n",
       "stem-color               object\n",
       "has-ring                 object\n",
       "habitat                  object\n",
       "season                   object\n",
       "dtype: object"
      ]
     },
     "execution_count": 10,
     "metadata": {},
     "output_type": "execute_result"
    }
   ],
   "source": [
    "train_data.dtypes"
   ]
  },
  {
   "cell_type": "code",
   "execution_count": 11,
   "id": "af433d67",
   "metadata": {
    "execution": {
     "iopub.execute_input": "2024-08-21T11:26:36.216945Z",
     "iopub.status.busy": "2024-08-21T11:26:36.216552Z",
     "iopub.status.idle": "2024-08-21T11:26:38.127556Z",
     "shell.execute_reply": "2024-08-21T11:26:38.126265Z"
    },
    "papermill": {
     "duration": 1.929747,
     "end_time": "2024-08-21T11:26:38.130959",
     "exception": false,
     "start_time": "2024-08-21T11:26:36.201212",
     "status": "completed"
    },
    "tags": []
   },
   "outputs": [
    {
     "data": {
      "text/plain": [
       "id                      3116945\n",
       "class                         2\n",
       "cap-diameter               3913\n",
       "cap-shape                    74\n",
       "cap-color                    78\n",
       "does-bruise-or-bleed         26\n",
       "gill-color                   63\n",
       "stem-height                2749\n",
       "stem-width                 5836\n",
       "stem-color                   59\n",
       "has-ring                     23\n",
       "habitat                      52\n",
       "season                        4\n",
       "dtype: int64"
      ]
     },
     "execution_count": 11,
     "metadata": {},
     "output_type": "execute_result"
    }
   ],
   "source": [
    "train_data.nunique()"
   ]
  },
  {
   "cell_type": "code",
   "execution_count": 12,
   "id": "b8a9a1cb",
   "metadata": {
    "execution": {
     "iopub.execute_input": "2024-08-21T11:26:38.160811Z",
     "iopub.status.busy": "2024-08-21T11:26:38.160283Z",
     "iopub.status.idle": "2024-08-21T11:26:39.437430Z",
     "shell.execute_reply": "2024-08-21T11:26:39.436171Z"
    },
    "papermill": {
     "duration": 1.295468,
     "end_time": "2024-08-21T11:26:39.440223",
     "exception": false,
     "start_time": "2024-08-21T11:26:38.144755",
     "status": "completed"
    },
    "tags": []
   },
   "outputs": [
    {
     "data": {
      "text/plain": [
       "id                        int64\n",
       "class                     int64\n",
       "cap-diameter            float64\n",
       "cap-shape                object\n",
       "cap-color                object\n",
       "does-bruise-or-bleed     object\n",
       "gill-color               object\n",
       "stem-height             float64\n",
       "stem-width              float64\n",
       "stem-color               object\n",
       "has-ring                 object\n",
       "habitat                  object\n",
       "season                   object\n",
       "dtype: object"
      ]
     },
     "execution_count": 12,
     "metadata": {},
     "output_type": "execute_result"
    }
   ],
   "source": [
    "train_data['class']= train_data['class'].str.lower().map({'e':0, 'p':1})\n",
    "train_data.dtypes"
   ]
  },
  {
   "cell_type": "code",
   "execution_count": 13,
   "id": "cf0200c5",
   "metadata": {
    "execution": {
     "iopub.execute_input": "2024-08-21T11:26:39.471377Z",
     "iopub.status.busy": "2024-08-21T11:26:39.470574Z",
     "iopub.status.idle": "2024-08-21T11:26:39.803579Z",
     "shell.execute_reply": "2024-08-21T11:26:39.802246Z"
    },
    "papermill": {
     "duration": 0.35196,
     "end_time": "2024-08-21T11:26:39.806754",
     "exception": false,
     "start_time": "2024-08-21T11:26:39.454794",
     "status": "completed"
    },
    "tags": []
   },
   "outputs": [],
   "source": [
    "train_data = train_data.drop(['cap-shape','cap-color','gill-color','stem-color','has-ring','habitat'],axis = 1)\n",
    "test_data = test_data.drop(['cap-shape','cap-color','gill-color','stem-color','has-ring','habitat'],axis = 1)"
   ]
  },
  {
   "cell_type": "code",
   "execution_count": 14,
   "id": "dc44ed05",
   "metadata": {
    "execution": {
     "iopub.execute_input": "2024-08-21T11:26:39.837171Z",
     "iopub.status.busy": "2024-08-21T11:26:39.836659Z",
     "iopub.status.idle": "2024-08-21T11:26:39.983128Z",
     "shell.execute_reply": "2024-08-21T11:26:39.981876Z"
    },
    "papermill": {
     "duration": 0.164553,
     "end_time": "2024-08-21T11:26:39.985795",
     "exception": false,
     "start_time": "2024-08-21T11:26:39.821242",
     "status": "completed"
    },
    "tags": []
   },
   "outputs": [
    {
     "data": {
      "text/plain": [
       "26"
      ]
     },
     "execution_count": 14,
     "metadata": {},
     "output_type": "execute_result"
    }
   ],
   "source": [
    "train_data['does-bruise-or-bleed'].nunique()"
   ]
  },
  {
   "cell_type": "code",
   "execution_count": 15,
   "id": "6cb74792",
   "metadata": {
    "execution": {
     "iopub.execute_input": "2024-08-21T11:26:40.016169Z",
     "iopub.status.busy": "2024-08-21T11:26:40.015739Z",
     "iopub.status.idle": "2024-08-21T11:26:40.912373Z",
     "shell.execute_reply": "2024-08-21T11:26:40.911138Z"
    },
    "papermill": {
     "duration": 0.914756,
     "end_time": "2024-08-21T11:26:40.915169",
     "exception": false,
     "start_time": "2024-08-21T11:26:40.000413",
     "status": "completed"
    },
    "tags": []
   },
   "outputs": [
    {
     "data": {
      "text/html": [
       "<div>\n",
       "<style scoped>\n",
       "    .dataframe tbody tr th:only-of-type {\n",
       "        vertical-align: middle;\n",
       "    }\n",
       "\n",
       "    .dataframe tbody tr th {\n",
       "        vertical-align: top;\n",
       "    }\n",
       "\n",
       "    .dataframe thead th {\n",
       "        text-align: right;\n",
       "    }\n",
       "</style>\n",
       "<table border=\"1\" class=\"dataframe\">\n",
       "  <thead>\n",
       "    <tr style=\"text-align: right;\">\n",
       "      <th></th>\n",
       "      <th>id</th>\n",
       "      <th>class</th>\n",
       "      <th>cap-diameter</th>\n",
       "      <th>does-bruise-or-bleed</th>\n",
       "      <th>stem-height</th>\n",
       "      <th>stem-width</th>\n",
       "      <th>season</th>\n",
       "    </tr>\n",
       "  </thead>\n",
       "  <tbody>\n",
       "    <tr>\n",
       "      <th>0</th>\n",
       "      <td>0</td>\n",
       "      <td>0</td>\n",
       "      <td>8.80</td>\n",
       "      <td>f</td>\n",
       "      <td>4.51</td>\n",
       "      <td>15.39</td>\n",
       "      <td>a</td>\n",
       "    </tr>\n",
       "    <tr>\n",
       "      <th>1</th>\n",
       "      <td>1</td>\n",
       "      <td>1</td>\n",
       "      <td>4.51</td>\n",
       "      <td>f</td>\n",
       "      <td>4.79</td>\n",
       "      <td>6.48</td>\n",
       "      <td>w</td>\n",
       "    </tr>\n",
       "    <tr>\n",
       "      <th>2</th>\n",
       "      <td>2</td>\n",
       "      <td>0</td>\n",
       "      <td>6.94</td>\n",
       "      <td>f</td>\n",
       "      <td>6.85</td>\n",
       "      <td>9.93</td>\n",
       "      <td>w</td>\n",
       "    </tr>\n",
       "    <tr>\n",
       "      <th>3</th>\n",
       "      <td>3</td>\n",
       "      <td>0</td>\n",
       "      <td>3.88</td>\n",
       "      <td>f</td>\n",
       "      <td>4.16</td>\n",
       "      <td>6.53</td>\n",
       "      <td>u</td>\n",
       "    </tr>\n",
       "    <tr>\n",
       "      <th>4</th>\n",
       "      <td>4</td>\n",
       "      <td>0</td>\n",
       "      <td>5.85</td>\n",
       "      <td>f</td>\n",
       "      <td>3.37</td>\n",
       "      <td>8.36</td>\n",
       "      <td>a</td>\n",
       "    </tr>\n",
       "    <tr>\n",
       "      <th>...</th>\n",
       "      <td>...</td>\n",
       "      <td>...</td>\n",
       "      <td>...</td>\n",
       "      <td>...</td>\n",
       "      <td>...</td>\n",
       "      <td>...</td>\n",
       "      <td>...</td>\n",
       "    </tr>\n",
       "    <tr>\n",
       "      <th>3116940</th>\n",
       "      <td>3116940</td>\n",
       "      <td>0</td>\n",
       "      <td>9.29</td>\n",
       "      <td>t</td>\n",
       "      <td>12.14</td>\n",
       "      <td>18.81</td>\n",
       "      <td>u</td>\n",
       "    </tr>\n",
       "    <tr>\n",
       "      <th>3116941</th>\n",
       "      <td>3116941</td>\n",
       "      <td>0</td>\n",
       "      <td>10.88</td>\n",
       "      <td>t</td>\n",
       "      <td>6.65</td>\n",
       "      <td>26.97</td>\n",
       "      <td>u</td>\n",
       "    </tr>\n",
       "    <tr>\n",
       "      <th>3116942</th>\n",
       "      <td>3116942</td>\n",
       "      <td>1</td>\n",
       "      <td>7.82</td>\n",
       "      <td>f</td>\n",
       "      <td>9.51</td>\n",
       "      <td>11.06</td>\n",
       "      <td>a</td>\n",
       "    </tr>\n",
       "    <tr>\n",
       "      <th>3116943</th>\n",
       "      <td>3116943</td>\n",
       "      <td>0</td>\n",
       "      <td>9.45</td>\n",
       "      <td>t</td>\n",
       "      <td>9.13</td>\n",
       "      <td>17.77</td>\n",
       "      <td>u</td>\n",
       "    </tr>\n",
       "    <tr>\n",
       "      <th>3116944</th>\n",
       "      <td>3116944</td>\n",
       "      <td>1</td>\n",
       "      <td>3.20</td>\n",
       "      <td>f</td>\n",
       "      <td>2.82</td>\n",
       "      <td>7.79</td>\n",
       "      <td>u</td>\n",
       "    </tr>\n",
       "  </tbody>\n",
       "</table>\n",
       "<p>3116933 rows × 7 columns</p>\n",
       "</div>"
      ],
      "text/plain": [
       "              id  class  cap-diameter does-bruise-or-bleed  stem-height  \\\n",
       "0              0      0          8.80                    f         4.51   \n",
       "1              1      1          4.51                    f         4.79   \n",
       "2              2      0          6.94                    f         6.85   \n",
       "3              3      0          3.88                    f         4.16   \n",
       "4              4      0          5.85                    f         3.37   \n",
       "...          ...    ...           ...                  ...          ...   \n",
       "3116940  3116940      0          9.29                    t        12.14   \n",
       "3116941  3116941      0         10.88                    t         6.65   \n",
       "3116942  3116942      1          7.82                    f         9.51   \n",
       "3116943  3116943      0          9.45                    t         9.13   \n",
       "3116944  3116944      1          3.20                    f         2.82   \n",
       "\n",
       "         stem-width season  \n",
       "0             15.39      a  \n",
       "1              6.48      w  \n",
       "2              9.93      w  \n",
       "3              6.53      u  \n",
       "4              8.36      a  \n",
       "...             ...    ...  \n",
       "3116940       18.81      u  \n",
       "3116941       26.97      u  \n",
       "3116942       11.06      a  \n",
       "3116943       17.77      u  \n",
       "3116944        7.79      u  \n",
       "\n",
       "[3116933 rows x 7 columns]"
      ]
     },
     "execution_count": 15,
     "metadata": {},
     "output_type": "execute_result"
    }
   ],
   "source": [
    "train_data = train_data.dropna()\n",
    "train_data"
   ]
  },
  {
   "cell_type": "code",
   "execution_count": 16,
   "id": "888a0aaa",
   "metadata": {
    "execution": {
     "iopub.execute_input": "2024-08-21T11:26:40.947367Z",
     "iopub.status.busy": "2024-08-21T11:26:40.946981Z",
     "iopub.status.idle": "2024-08-21T11:26:41.641046Z",
     "shell.execute_reply": "2024-08-21T11:26:41.639914Z"
    },
    "papermill": {
     "duration": 0.714235,
     "end_time": "2024-08-21T11:26:41.643920",
     "exception": false,
     "start_time": "2024-08-21T11:26:40.929685",
     "status": "completed"
    },
    "tags": []
   },
   "outputs": [
    {
     "data": {
      "text/plain": [
       "id                      0\n",
       "class                   0\n",
       "cap-diameter            0\n",
       "does-bruise-or-bleed    0\n",
       "stem-height             0\n",
       "stem-width              0\n",
       "season                  0\n",
       "dtype: int64"
      ]
     },
     "execution_count": 16,
     "metadata": {},
     "output_type": "execute_result"
    }
   ],
   "source": [
    "train_data.isna().sum()"
   ]
  },
  {
   "cell_type": "code",
   "execution_count": 17,
   "id": "e26ee9c6",
   "metadata": {
    "execution": {
     "iopub.execute_input": "2024-08-21T11:26:41.677561Z",
     "iopub.status.busy": "2024-08-21T11:26:41.677162Z",
     "iopub.status.idle": "2024-08-21T11:26:42.141858Z",
     "shell.execute_reply": "2024-08-21T11:26:42.140582Z"
    },
    "papermill": {
     "duration": 0.485,
     "end_time": "2024-08-21T11:26:42.144703",
     "exception": false,
     "start_time": "2024-08-21T11:26:41.659703",
     "status": "completed"
    },
    "tags": []
   },
   "outputs": [
    {
     "data": {
      "text/plain": [
       "id                       0\n",
       "cap-diameter             7\n",
       "does-bruise-or-bleed    10\n",
       "stem-height              1\n",
       "stem-width               0\n",
       "season                   0\n",
       "dtype: int64"
      ]
     },
     "execution_count": 17,
     "metadata": {},
     "output_type": "execute_result"
    }
   ],
   "source": [
    "test_data.isna().sum()"
   ]
  },
  {
   "cell_type": "code",
   "execution_count": 18,
   "id": "d0881f5b",
   "metadata": {
    "execution": {
     "iopub.execute_input": "2024-08-21T11:26:42.182143Z",
     "iopub.status.busy": "2024-08-21T11:26:42.180651Z",
     "iopub.status.idle": "2024-08-21T11:26:42.885217Z",
     "shell.execute_reply": "2024-08-21T11:26:42.883729Z"
    },
    "papermill": {
     "duration": 0.728472,
     "end_time": "2024-08-21T11:26:42.888188",
     "exception": false,
     "start_time": "2024-08-21T11:26:42.159716",
     "status": "completed"
    },
    "tags": []
   },
   "outputs": [],
   "source": [
    "test_data = test_data.fillna(0)"
   ]
  },
  {
   "cell_type": "code",
   "execution_count": 19,
   "id": "75ff5189",
   "metadata": {
    "execution": {
     "iopub.execute_input": "2024-08-21T11:26:42.920222Z",
     "iopub.status.busy": "2024-08-21T11:26:42.919805Z",
     "iopub.status.idle": "2024-08-21T11:26:43.381166Z",
     "shell.execute_reply": "2024-08-21T11:26:43.379898Z"
    },
    "papermill": {
     "duration": 0.480811,
     "end_time": "2024-08-21T11:26:43.383992",
     "exception": false,
     "start_time": "2024-08-21T11:26:42.903181",
     "status": "completed"
    },
    "tags": []
   },
   "outputs": [
    {
     "data": {
      "text/plain": [
       "id                      0\n",
       "cap-diameter            0\n",
       "does-bruise-or-bleed    0\n",
       "stem-height             0\n",
       "stem-width              0\n",
       "season                  0\n",
       "dtype: int64"
      ]
     },
     "execution_count": 19,
     "metadata": {},
     "output_type": "execute_result"
    }
   ],
   "source": [
    "test_data.isna().sum()"
   ]
  },
  {
   "cell_type": "code",
   "execution_count": 20,
   "id": "be2443c1",
   "metadata": {
    "execution": {
     "iopub.execute_input": "2024-08-21T11:26:43.416665Z",
     "iopub.status.busy": "2024-08-21T11:26:43.416260Z",
     "iopub.status.idle": "2024-08-21T11:26:44.193264Z",
     "shell.execute_reply": "2024-08-21T11:26:44.191887Z"
    },
    "papermill": {
     "duration": 0.796369,
     "end_time": "2024-08-21T11:26:44.196256",
     "exception": false,
     "start_time": "2024-08-21T11:26:43.399887",
     "status": "completed"
    },
    "tags": []
   },
   "outputs": [
    {
     "data": {
      "text/plain": [
       "Index(['id', 'cap-diameter', 'stem-height', 'stem-width',\n",
       "       'does-bruise-or-bleed_0', 'does-bruise-or-bleed_a',\n",
       "       'does-bruise-or-bleed_b', 'does-bruise-or-bleed_c',\n",
       "       'does-bruise-or-bleed_does t', 'does-bruise-or-bleed_e',\n",
       "       'does-bruise-or-bleed_f', 'does-bruise-or-bleed_g',\n",
       "       'does-bruise-or-bleed_h', 'does-bruise-or-bleed_i',\n",
       "       'does-bruise-or-bleed_k', 'does-bruise-or-bleed_l',\n",
       "       'does-bruise-or-bleed_m', 'does-bruise-or-bleed_n',\n",
       "       'does-bruise-or-bleed_o', 'does-bruise-or-bleed_p',\n",
       "       'does-bruise-or-bleed_r', 'does-bruise-or-bleed_s',\n",
       "       'does-bruise-or-bleed_season', 'does-bruise-or-bleed_t',\n",
       "       'does-bruise-or-bleed_w', 'does-bruise-or-bleed_x',\n",
       "       'does-bruise-or-bleed_y', 'season_a', 'season_s', 'season_u',\n",
       "       'season_w'],\n",
       "      dtype='object')"
      ]
     },
     "execution_count": 20,
     "metadata": {},
     "output_type": "execute_result"
    }
   ],
   "source": [
    "test_data = pd.get_dummies(test_data)\n",
    "test_data.columns"
   ]
  },
  {
   "cell_type": "code",
   "execution_count": 21,
   "id": "60534c3b",
   "metadata": {
    "execution": {
     "iopub.execute_input": "2024-08-21T11:26:44.231130Z",
     "iopub.status.busy": "2024-08-21T11:26:44.230488Z",
     "iopub.status.idle": "2024-08-21T11:26:44.296158Z",
     "shell.execute_reply": "2024-08-21T11:26:44.294758Z"
    },
    "papermill": {
     "duration": 0.086912,
     "end_time": "2024-08-21T11:26:44.299005",
     "exception": false,
     "start_time": "2024-08-21T11:26:44.212093",
     "status": "completed"
    },
    "tags": []
   },
   "outputs": [
    {
     "data": {
      "text/plain": [
       "Index(['id', 'cap-diameter', 'stem-height', 'stem-width',\n",
       "       'does-bruise-or-bleed_a', 'does-bruise-or-bleed_b',\n",
       "       'does-bruise-or-bleed_c', 'does-bruise-or-bleed_e',\n",
       "       'does-bruise-or-bleed_f', 'does-bruise-or-bleed_g',\n",
       "       'does-bruise-or-bleed_h', 'does-bruise-or-bleed_i',\n",
       "       'does-bruise-or-bleed_k', 'does-bruise-or-bleed_l',\n",
       "       'does-bruise-or-bleed_n', 'does-bruise-or-bleed_o',\n",
       "       'does-bruise-or-bleed_p', 'does-bruise-or-bleed_r',\n",
       "       'does-bruise-or-bleed_s', 'does-bruise-or-bleed_t',\n",
       "       'does-bruise-or-bleed_w', 'does-bruise-or-bleed_x',\n",
       "       'does-bruise-or-bleed_y', 'season_a', 'season_s', 'season_u',\n",
       "       'season_w'],\n",
       "      dtype='object')"
      ]
     },
     "execution_count": 21,
     "metadata": {},
     "output_type": "execute_result"
    }
   ],
   "source": [
    "test_data = test_data.drop(['does-bruise-or-bleed_0','does-bruise-or-bleed_does t','does-bruise-or-bleed_season','does-bruise-or-bleed_m'],axis=1)\n",
    "test_data.columns"
   ]
  },
  {
   "cell_type": "code",
   "execution_count": 22,
   "id": "175d57cf",
   "metadata": {
    "execution": {
     "iopub.execute_input": "2024-08-21T11:26:44.332630Z",
     "iopub.status.busy": "2024-08-21T11:26:44.332190Z",
     "iopub.status.idle": "2024-08-21T11:26:47.271810Z",
     "shell.execute_reply": "2024-08-21T11:26:47.270366Z"
    },
    "papermill": {
     "duration": 2.9602,
     "end_time": "2024-08-21T11:26:47.274874",
     "exception": false,
     "start_time": "2024-08-21T11:26:44.314674",
     "status": "completed"
    },
    "tags": []
   },
   "outputs": [],
   "source": [
    "from sklearn.model_selection import train_test_split\n",
    "from sklearn.preprocessing import StandardScaler\n",
    "from sklearn.feature_selection import chi2, mutual_info_classif, SelectKBest\n",
    "numeric_columns = ['cap-diameter','stem-height','stem-width']\n",
    "X = pd.get_dummies(train_data.drop('class',axis=1))\n",
    "y = train_data['class']"
   ]
  },
  {
   "cell_type": "code",
   "execution_count": 23,
   "id": "30bc3284",
   "metadata": {
    "execution": {
     "iopub.execute_input": "2024-08-21T11:26:47.312429Z",
     "iopub.status.busy": "2024-08-21T11:26:47.312039Z",
     "iopub.status.idle": "2024-08-21T11:26:47.320742Z",
     "shell.execute_reply": "2024-08-21T11:26:47.319445Z"
    },
    "papermill": {
     "duration": 0.031822,
     "end_time": "2024-08-21T11:26:47.323781",
     "exception": false,
     "start_time": "2024-08-21T11:26:47.291959",
     "status": "completed"
    },
    "tags": []
   },
   "outputs": [
    {
     "data": {
      "text/plain": [
       "Index(['id', 'cap-diameter', 'stem-height', 'stem-width',\n",
       "       'does-bruise-or-bleed_2.9', 'does-bruise-or-bleed_3.43',\n",
       "       'does-bruise-or-bleed_4.42', 'does-bruise-or-bleed_a',\n",
       "       'does-bruise-or-bleed_b', 'does-bruise-or-bleed_c',\n",
       "       'does-bruise-or-bleed_d', 'does-bruise-or-bleed_e',\n",
       "       'does-bruise-or-bleed_f', 'does-bruise-or-bleed_g',\n",
       "       'does-bruise-or-bleed_h', 'does-bruise-or-bleed_has-ring',\n",
       "       'does-bruise-or-bleed_i', 'does-bruise-or-bleed_k',\n",
       "       'does-bruise-or-bleed_l', 'does-bruise-or-bleed_n',\n",
       "       'does-bruise-or-bleed_o', 'does-bruise-or-bleed_p',\n",
       "       'does-bruise-or-bleed_r', 'does-bruise-or-bleed_s',\n",
       "       'does-bruise-or-bleed_t', 'does-bruise-or-bleed_u',\n",
       "       'does-bruise-or-bleed_w', 'does-bruise-or-bleed_x',\n",
       "       'does-bruise-or-bleed_y', 'does-bruise-or-bleed_z', 'season_a',\n",
       "       'season_s', 'season_u', 'season_w'],\n",
       "      dtype='object')"
      ]
     },
     "execution_count": 23,
     "metadata": {},
     "output_type": "execute_result"
    }
   ],
   "source": [
    "X.columns"
   ]
  },
  {
   "cell_type": "code",
   "execution_count": 24,
   "id": "54672890",
   "metadata": {
    "execution": {
     "iopub.execute_input": "2024-08-21T11:26:47.358720Z",
     "iopub.status.busy": "2024-08-21T11:26:47.358269Z",
     "iopub.status.idle": "2024-08-21T11:26:47.366559Z",
     "shell.execute_reply": "2024-08-21T11:26:47.365111Z"
    },
    "papermill": {
     "duration": 0.028928,
     "end_time": "2024-08-21T11:26:47.369362",
     "exception": false,
     "start_time": "2024-08-21T11:26:47.340434",
     "status": "completed"
    },
    "tags": []
   },
   "outputs": [
    {
     "data": {
      "text/plain": [
       "Index(['id', 'cap-diameter', 'stem-height', 'stem-width',\n",
       "       'does-bruise-or-bleed_2.9', 'does-bruise-or-bleed_3.43',\n",
       "       'does-bruise-or-bleed_4.42', 'does-bruise-or-bleed_a',\n",
       "       'does-bruise-or-bleed_b', 'does-bruise-or-bleed_c',\n",
       "       'does-bruise-or-bleed_d', 'does-bruise-or-bleed_e',\n",
       "       'does-bruise-or-bleed_f', 'does-bruise-or-bleed_g',\n",
       "       'does-bruise-or-bleed_h', 'does-bruise-or-bleed_has-ring',\n",
       "       'does-bruise-or-bleed_i', 'does-bruise-or-bleed_k',\n",
       "       'does-bruise-or-bleed_l', 'does-bruise-or-bleed_n',\n",
       "       'does-bruise-or-bleed_o', 'does-bruise-or-bleed_p',\n",
       "       'does-bruise-or-bleed_r', 'does-bruise-or-bleed_s',\n",
       "       'does-bruise-or-bleed_t', 'does-bruise-or-bleed_u',\n",
       "       'does-bruise-or-bleed_w', 'does-bruise-or-bleed_x',\n",
       "       'does-bruise-or-bleed_y', 'does-bruise-or-bleed_z', 'season_a',\n",
       "       'season_s', 'season_u', 'season_w'],\n",
       "      dtype='object')"
      ]
     },
     "execution_count": 24,
     "metadata": {},
     "output_type": "execute_result"
    }
   ],
   "source": [
    "X.columns"
   ]
  },
  {
   "cell_type": "code",
   "execution_count": 25,
   "id": "b3e8d17a",
   "metadata": {
    "execution": {
     "iopub.execute_input": "2024-08-21T11:26:47.403107Z",
     "iopub.status.busy": "2024-08-21T11:26:47.402672Z",
     "iopub.status.idle": "2024-08-21T11:26:48.509704Z",
     "shell.execute_reply": "2024-08-21T11:26:48.508533Z"
    },
    "papermill": {
     "duration": 1.127136,
     "end_time": "2024-08-21T11:26:48.512571",
     "exception": false,
     "start_time": "2024-08-21T11:26:47.385435",
     "status": "completed"
    },
    "tags": []
   },
   "outputs": [],
   "source": [
    "X_train, X_test, y_train, y_test = train_test_split(X, y, test_size=0.2, random_state=1) "
   ]
  },
  {
   "cell_type": "code",
   "execution_count": 26,
   "id": "7e45a4e7",
   "metadata": {
    "execution": {
     "iopub.execute_input": "2024-08-21T11:26:48.546016Z",
     "iopub.status.busy": "2024-08-21T11:26:48.545606Z",
     "iopub.status.idle": "2024-08-21T11:26:48.699881Z",
     "shell.execute_reply": "2024-08-21T11:26:48.698423Z"
    },
    "papermill": {
     "duration": 0.17465,
     "end_time": "2024-08-21T11:26:48.703071",
     "exception": false,
     "start_time": "2024-08-21T11:26:48.528421",
     "status": "completed"
    },
    "tags": []
   },
   "outputs": [
    {
     "data": {
      "text/plain": [
       "array([[ 0.12862293, -0.68491023,  0.00435514],\n",
       "       [-0.12236708, -0.35898021,  0.04017117],\n",
       "       [-0.4999247 , -0.01453143, -0.52300497],\n",
       "       ...,\n",
       "       [-0.58358804, -0.74046649, -0.24882711],\n",
       "       [-0.92467703, -0.05897643, -1.05036507],\n",
       "       [ 1.20981066, -0.20342269,  0.68485963]])"
      ]
     },
     "execution_count": 26,
     "metadata": {},
     "output_type": "execute_result"
    }
   ],
   "source": [
    "Standard_Scaler = StandardScaler()\n",
    "Standard_Scaler.fit_transform(X_train[numeric_columns])\n",
    "Standard_Scaler.transform(X_test[numeric_columns])"
   ]
  },
  {
   "cell_type": "code",
   "execution_count": 27,
   "id": "8070eac5",
   "metadata": {
    "execution": {
     "iopub.execute_input": "2024-08-21T11:26:48.739197Z",
     "iopub.status.busy": "2024-08-21T11:26:48.738762Z",
     "iopub.status.idle": "2024-08-21T11:26:48.776686Z",
     "shell.execute_reply": "2024-08-21T11:26:48.775278Z"
    },
    "papermill": {
     "duration": 0.059991,
     "end_time": "2024-08-21T11:26:48.780074",
     "exception": false,
     "start_time": "2024-08-21T11:26:48.720083",
     "status": "completed"
    },
    "tags": []
   },
   "outputs": [],
   "source": [
    "from sklearn.tree import DecisionTreeClassifier"
   ]
  },
  {
   "cell_type": "code",
   "execution_count": 28,
   "id": "75bad579",
   "metadata": {
    "execution": {
     "iopub.execute_input": "2024-08-21T11:26:48.814707Z",
     "iopub.status.busy": "2024-08-21T11:26:48.814257Z",
     "iopub.status.idle": "2024-08-21T11:27:42.142483Z",
     "shell.execute_reply": "2024-08-21T11:27:42.141226Z"
    },
    "papermill": {
     "duration": 53.349242,
     "end_time": "2024-08-21T11:27:42.145622",
     "exception": false,
     "start_time": "2024-08-21T11:26:48.796380",
     "status": "completed"
    },
    "tags": []
   },
   "outputs": [],
   "source": [
    "dtc = DecisionTreeClassifier()\n",
    "dtc.fit(X_train,y_train)\n",
    "y_pred = dtc.predict(X_test)"
   ]
  },
  {
   "cell_type": "code",
   "execution_count": 29,
   "id": "737af5c0",
   "metadata": {
    "execution": {
     "iopub.execute_input": "2024-08-21T11:27:42.183410Z",
     "iopub.status.busy": "2024-08-21T11:27:42.182864Z",
     "iopub.status.idle": "2024-08-21T11:27:42.272804Z",
     "shell.execute_reply": "2024-08-21T11:27:42.271231Z"
    },
    "papermill": {
     "duration": 0.11338,
     "end_time": "2024-08-21T11:27:42.275589",
     "exception": false,
     "start_time": "2024-08-21T11:27:42.162209",
     "status": "completed"
    },
    "tags": []
   },
   "outputs": [
    {
     "data": {
      "text/plain": [
       "0.8082731914525007"
      ]
     },
     "execution_count": 29,
     "metadata": {},
     "output_type": "execute_result"
    }
   ],
   "source": [
    "from sklearn.metrics import accuracy_score\n",
    "accuracy_score(y_test, y_pred)"
   ]
  },
  {
   "cell_type": "code",
   "execution_count": 30,
   "id": "eb303ce6",
   "metadata": {
    "execution": {
     "iopub.execute_input": "2024-08-21T11:27:42.311391Z",
     "iopub.status.busy": "2024-08-21T11:27:42.310996Z",
     "iopub.status.idle": "2024-08-21T11:27:42.319287Z",
     "shell.execute_reply": "2024-08-21T11:27:42.317821Z"
    },
    "papermill": {
     "duration": 0.029687,
     "end_time": "2024-08-21T11:27:42.321979",
     "exception": false,
     "start_time": "2024-08-21T11:27:42.292292",
     "status": "completed"
    },
    "tags": []
   },
   "outputs": [
    {
     "data": {
      "text/plain": [
       "Index(['id', 'cap-diameter', 'stem-height', 'stem-width',\n",
       "       'does-bruise-or-bleed_2.9', 'does-bruise-or-bleed_3.43',\n",
       "       'does-bruise-or-bleed_4.42', 'does-bruise-or-bleed_a',\n",
       "       'does-bruise-or-bleed_b', 'does-bruise-or-bleed_c',\n",
       "       'does-bruise-or-bleed_d', 'does-bruise-or-bleed_e',\n",
       "       'does-bruise-or-bleed_f', 'does-bruise-or-bleed_g',\n",
       "       'does-bruise-or-bleed_h', 'does-bruise-or-bleed_has-ring',\n",
       "       'does-bruise-or-bleed_i', 'does-bruise-or-bleed_k',\n",
       "       'does-bruise-or-bleed_l', 'does-bruise-or-bleed_n',\n",
       "       'does-bruise-or-bleed_o', 'does-bruise-or-bleed_p',\n",
       "       'does-bruise-or-bleed_r', 'does-bruise-or-bleed_s',\n",
       "       'does-bruise-or-bleed_t', 'does-bruise-or-bleed_u',\n",
       "       'does-bruise-or-bleed_w', 'does-bruise-or-bleed_x',\n",
       "       'does-bruise-or-bleed_y', 'does-bruise-or-bleed_z', 'season_a',\n",
       "       'season_s', 'season_u', 'season_w'],\n",
       "      dtype='object')"
      ]
     },
     "execution_count": 30,
     "metadata": {},
     "output_type": "execute_result"
    }
   ],
   "source": [
    "X_test.columns"
   ]
  },
  {
   "cell_type": "code",
   "execution_count": 31,
   "id": "e9ba848d",
   "metadata": {
    "execution": {
     "iopub.execute_input": "2024-08-21T11:27:42.358055Z",
     "iopub.status.busy": "2024-08-21T11:27:42.357652Z",
     "iopub.status.idle": "2024-08-21T11:27:42.366267Z",
     "shell.execute_reply": "2024-08-21T11:27:42.364998Z"
    },
    "papermill": {
     "duration": 0.030164,
     "end_time": "2024-08-21T11:27:42.368886",
     "exception": false,
     "start_time": "2024-08-21T11:27:42.338722",
     "status": "completed"
    },
    "tags": []
   },
   "outputs": [
    {
     "data": {
      "text/plain": [
       "Index(['id', 'cap-diameter', 'stem-height', 'stem-width',\n",
       "       'does-bruise-or-bleed_2.9', 'does-bruise-or-bleed_3.43',\n",
       "       'does-bruise-or-bleed_4.42', 'does-bruise-or-bleed_a',\n",
       "       'does-bruise-or-bleed_b', 'does-bruise-or-bleed_c',\n",
       "       'does-bruise-or-bleed_d', 'does-bruise-or-bleed_e',\n",
       "       'does-bruise-or-bleed_f', 'does-bruise-or-bleed_g',\n",
       "       'does-bruise-or-bleed_h', 'does-bruise-or-bleed_has-ring',\n",
       "       'does-bruise-or-bleed_i', 'does-bruise-or-bleed_k',\n",
       "       'does-bruise-or-bleed_l', 'does-bruise-or-bleed_n',\n",
       "       'does-bruise-or-bleed_o', 'does-bruise-or-bleed_p',\n",
       "       'does-bruise-or-bleed_r', 'does-bruise-or-bleed_s',\n",
       "       'does-bruise-or-bleed_t', 'does-bruise-or-bleed_u',\n",
       "       'does-bruise-or-bleed_w', 'does-bruise-or-bleed_x',\n",
       "       'does-bruise-or-bleed_y', 'does-bruise-or-bleed_z', 'season_a',\n",
       "       'season_s', 'season_u', 'season_w'],\n",
       "      dtype='object')"
      ]
     },
     "execution_count": 31,
     "metadata": {},
     "output_type": "execute_result"
    }
   ],
   "source": [
    "X.columns"
   ]
  },
  {
   "cell_type": "code",
   "execution_count": 32,
   "id": "a8ca40a0",
   "metadata": {
    "execution": {
     "iopub.execute_input": "2024-08-21T11:27:42.403742Z",
     "iopub.status.busy": "2024-08-21T11:27:42.403314Z",
     "iopub.status.idle": "2024-08-21T11:27:43.509682Z",
     "shell.execute_reply": "2024-08-21T11:27:43.508387Z"
    },
    "papermill": {
     "duration": 1.127443,
     "end_time": "2024-08-21T11:27:43.512774",
     "exception": false,
     "start_time": "2024-08-21T11:27:42.385331",
     "status": "completed"
    },
    "tags": []
   },
   "outputs": [],
   "source": [
    "X = pd.get_dummies(train_data.drop('class',axis=1))\n",
    "y = train_data['class']\n",
    "X_test = test_data"
   ]
  },
  {
   "cell_type": "code",
   "execution_count": 33,
   "id": "c52a5bc0",
   "metadata": {
    "execution": {
     "iopub.execute_input": "2024-08-21T11:27:43.549505Z",
     "iopub.status.busy": "2024-08-21T11:27:43.549077Z",
     "iopub.status.idle": "2024-08-21T11:27:43.647389Z",
     "shell.execute_reply": "2024-08-21T11:27:43.646122Z"
    },
    "papermill": {
     "duration": 0.121034,
     "end_time": "2024-08-21T11:27:43.650343",
     "exception": false,
     "start_time": "2024-08-21T11:27:43.529309",
     "status": "completed"
    },
    "tags": []
   },
   "outputs": [],
   "source": [
    "X = X.drop(['does-bruise-or-bleed_2.9', 'does-bruise-or-bleed_3.43',\n",
    "       'does-bruise-or-bleed_4.42','does-bruise-or-bleed_has-ring','does-bruise-or-bleed_z','does-bruise-or-bleed_d','does-bruise-or-bleed_u'],axis=1)"
   ]
  },
  {
   "cell_type": "code",
   "execution_count": 34,
   "id": "6761cde3",
   "metadata": {
    "execution": {
     "iopub.execute_input": "2024-08-21T11:27:43.686257Z",
     "iopub.status.busy": "2024-08-21T11:27:43.685765Z",
     "iopub.status.idle": "2024-08-21T11:28:49.191243Z",
     "shell.execute_reply": "2024-08-21T11:28:49.190036Z"
    },
    "papermill": {
     "duration": 65.527249,
     "end_time": "2024-08-21T11:28:49.194255",
     "exception": false,
     "start_time": "2024-08-21T11:27:43.667006",
     "status": "completed"
    },
    "tags": []
   },
   "outputs": [],
   "source": [
    "dtc = DecisionTreeClassifier()\n",
    "dtc.fit(X,y)\n",
    "y_pred = dtc.predict(X_test)"
   ]
  },
  {
   "cell_type": "code",
   "execution_count": 35,
   "id": "b79f773d",
   "metadata": {
    "execution": {
     "iopub.execute_input": "2024-08-21T11:28:49.229691Z",
     "iopub.status.busy": "2024-08-21T11:28:49.229219Z",
     "iopub.status.idle": "2024-08-21T11:28:49.428331Z",
     "shell.execute_reply": "2024-08-21T11:28:49.426988Z"
    },
    "papermill": {
     "duration": 0.220011,
     "end_time": "2024-08-21T11:28:49.431041",
     "exception": false,
     "start_time": "2024-08-21T11:28:49.211030",
     "status": "completed"
    },
    "tags": []
   },
   "outputs": [
    {
     "data": {
      "text/html": [
       "<div>\n",
       "<style scoped>\n",
       "    .dataframe tbody tr th:only-of-type {\n",
       "        vertical-align: middle;\n",
       "    }\n",
       "\n",
       "    .dataframe tbody tr th {\n",
       "        vertical-align: top;\n",
       "    }\n",
       "\n",
       "    .dataframe thead th {\n",
       "        text-align: right;\n",
       "    }\n",
       "</style>\n",
       "<table border=\"1\" class=\"dataframe\">\n",
       "  <thead>\n",
       "    <tr style=\"text-align: right;\">\n",
       "      <th></th>\n",
       "      <th>id</th>\n",
       "      <th>class</th>\n",
       "    </tr>\n",
       "  </thead>\n",
       "  <tbody>\n",
       "    <tr>\n",
       "      <th>0</th>\n",
       "      <td>3116945</td>\n",
       "      <td>e</td>\n",
       "    </tr>\n",
       "    <tr>\n",
       "      <th>1</th>\n",
       "      <td>3116946</td>\n",
       "      <td>p</td>\n",
       "    </tr>\n",
       "    <tr>\n",
       "      <th>2</th>\n",
       "      <td>3116947</td>\n",
       "      <td>p</td>\n",
       "    </tr>\n",
       "    <tr>\n",
       "      <th>3</th>\n",
       "      <td>3116948</td>\n",
       "      <td>p</td>\n",
       "    </tr>\n",
       "    <tr>\n",
       "      <th>4</th>\n",
       "      <td>3116949</td>\n",
       "      <td>e</td>\n",
       "    </tr>\n",
       "    <tr>\n",
       "      <th>...</th>\n",
       "      <td>...</td>\n",
       "      <td>...</td>\n",
       "    </tr>\n",
       "    <tr>\n",
       "      <th>2077959</th>\n",
       "      <td>5194904</td>\n",
       "      <td>p</td>\n",
       "    </tr>\n",
       "    <tr>\n",
       "      <th>2077960</th>\n",
       "      <td>5194905</td>\n",
       "      <td>p</td>\n",
       "    </tr>\n",
       "    <tr>\n",
       "      <th>2077961</th>\n",
       "      <td>5194906</td>\n",
       "      <td>p</td>\n",
       "    </tr>\n",
       "    <tr>\n",
       "      <th>2077962</th>\n",
       "      <td>5194907</td>\n",
       "      <td>e</td>\n",
       "    </tr>\n",
       "    <tr>\n",
       "      <th>2077963</th>\n",
       "      <td>5194908</td>\n",
       "      <td>e</td>\n",
       "    </tr>\n",
       "  </tbody>\n",
       "</table>\n",
       "<p>2077964 rows × 2 columns</p>\n",
       "</div>"
      ],
      "text/plain": [
       "              id class\n",
       "0        3116945     e\n",
       "1        3116946     p\n",
       "2        3116947     p\n",
       "3        3116948     p\n",
       "4        3116949     e\n",
       "...          ...   ...\n",
       "2077959  5194904     p\n",
       "2077960  5194905     p\n",
       "2077961  5194906     p\n",
       "2077962  5194907     e\n",
       "2077963  5194908     e\n",
       "\n",
       "[2077964 rows x 2 columns]"
      ]
     },
     "execution_count": 35,
     "metadata": {},
     "output_type": "execute_result"
    }
   ],
   "source": [
    "df_predictions = pd.DataFrame({'id': test_data.id, 'class': y_pred})\n",
    "df_predictions['class']= df_predictions['class'].replace({0:'e',1:'p'})\n",
    "df_predictions"
   ]
  },
  {
   "cell_type": "code",
   "execution_count": 36,
   "id": "c7ecedab",
   "metadata": {
    "execution": {
     "iopub.execute_input": "2024-08-21T11:28:49.532950Z",
     "iopub.status.busy": "2024-08-21T11:28:49.532531Z",
     "iopub.status.idle": "2024-08-21T11:28:52.382937Z",
     "shell.execute_reply": "2024-08-21T11:28:52.381612Z"
    },
    "papermill": {
     "duration": 2.871914,
     "end_time": "2024-08-21T11:28:52.385835",
     "exception": false,
     "start_time": "2024-08-21T11:28:49.513921",
     "status": "completed"
    },
    "tags": []
   },
   "outputs": [
    {
     "name": "stdout",
     "output_type": "stream",
     "text": [
      "Your submission was successfully saved!\n"
     ]
    }
   ],
   "source": [
    "df_predictions.to_csv('submission.csv', index=False)\n",
    "print(\"Your submission was successfully saved!\")"
   ]
  }
 ],
 "metadata": {
  "kaggle": {
   "accelerator": "none",
   "dataSources": [
    {
     "databundleVersionId": 9045607,
     "sourceId": 76727,
     "sourceType": "competition"
    }
   ],
   "dockerImageVersionId": 30746,
   "isGpuEnabled": false,
   "isInternetEnabled": true,
   "language": "python",
   "sourceType": "notebook"
  },
  "kernelspec": {
   "display_name": "Python 3",
   "language": "python",
   "name": "python3"
  },
  "language_info": {
   "codemirror_mode": {
    "name": "ipython",
    "version": 3
   },
   "file_extension": ".py",
   "mimetype": "text/x-python",
   "name": "python",
   "nbconvert_exporter": "python",
   "pygments_lexer": "ipython3",
   "version": "3.10.13"
  },
  "papermill": {
   "default_parameters": {},
   "duration": 180.610335,
   "end_time": "2024-08-21T11:28:53.428141",
   "environment_variables": {},
   "exception": null,
   "input_path": "__notebook__.ipynb",
   "output_path": "__notebook__.ipynb",
   "parameters": {},
   "start_time": "2024-08-21T11:25:52.817806",
   "version": "2.5.0"
  }
 },
 "nbformat": 4,
 "nbformat_minor": 5
}
